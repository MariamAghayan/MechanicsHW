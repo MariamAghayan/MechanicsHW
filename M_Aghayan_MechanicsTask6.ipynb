{
  "nbformat": 4,
  "nbformat_minor": 0,
  "metadata": {
    "colab": {
      "provenance": []
    },
    "kernelspec": {
      "name": "python3",
      "display_name": "Python 3"
    },
    "language_info": {
      "name": "python"
    }
  },
  "cells": [
    {
      "cell_type": "code",
      "execution_count": 3,
      "metadata": {
        "colab": {
          "base_uri": "https://localhost:8080/"
        },
        "id": "VEY5gSpjCWAk",
        "outputId": "964be142-86e3-4b08-c6c9-7f27d2d20d02"
      },
      "outputs": [
        {
          "output_type": "stream",
          "name": "stdout",
          "text": [
            "Enter mass of M1: 5\n",
            "Enter mass of M2: 15\n",
            "Enter mass of M3: 10\n",
            "Enter friction coefficient between M1 and table (mu1): 5\n",
            "Enter friction coefficient between M1 and M2 (mu2): 1\n",
            "Enter friction coefficient between M1 and M3 (mu3): 3\n",
            "Enter rope length (L): 14\n",
            "Enter time step (dt): 2\n",
            "Enter duration of motion (seconds): 10\n",
            "Accelerations:\n",
            "a1: 0.0\n",
            "a2: 0.0\n",
            "a3: -17.15\n",
            "Maximal distance M1 moves from its original position: 14.0\n"
          ]
        }
      ],
      "source": [
        "import numpy as np\n",
        "\n",
        "def calculate_accelerations(M1, M2, M3, mu1, mu2, mu3, L):\n",
        "    g = 9.8  # acceleration due to gravity\n",
        "\n",
        "    # Calculate tensions using constraint equations\n",
        "    T = (M1 * M2 * g) / (M1 + M2 + M3)\n",
        "\n",
        "    # Calculate frictional forces\n",
        "    N1 = M1 * g\n",
        "    N2 = M2 * g\n",
        "    N3 = M3 * g\n",
        "    F1 = min(mu1 * N1, T)\n",
        "    F2 = min(mu2 * N2, T)\n",
        "    F3 = min(mu3 * N3, M3 * g)\n",
        "\n",
        "    # Calculate accelerations\n",
        "    a1 = (T - F1) / M1\n",
        "    a2 = (T - F2) / M2\n",
        "    a3 = (T - M3 * g - F3) / M3\n",
        "\n",
        "    return a1, a2, a3\n",
        "\n",
        "def calculate_max_distance(D, dt, a1_max):\n",
        "    max_distance = 0\n",
        "    while D < 2 * L:\n",
        "        max_distance = D\n",
        "        D += a1_max * dt\n",
        "    return max_distance\n",
        "\n",
        "\n",
        "# Input parameters\n",
        "M1 = float(input(\"Enter mass of M1: \"))\n",
        "M2 = float(input(\"Enter mass of M2: \"))\n",
        "M3 = float(input(\"Enter mass of M3: \"))\n",
        "mu1 = float(input(\"Enter friction coefficient between M1 and table (mu1): \"))\n",
        "mu2 = float(input(\"Enter friction coefficient between M1 and M2 (mu2): \"))\n",
        "mu3 = float(input(\"Enter friction coefficient between M1 and M3 (mu3): \"))\n",
        "L = float(input(\"Enter rope length (L): \"))\n",
        "dt = float(input(\"Enter time step (dt): \"))\n",
        "duration = float(input(\"Enter duration of motion (seconds): \"))\n",
        "\n",
        "# Calculate accelerations\n",
        "a1, a2, a3 = calculate_accelerations(M1, M2, M3, mu1, mu2, mu3, L)\n",
        "print(\"Accelerations:\")\n",
        "print(\"a1:\", a1)\n",
        "print(\"a2:\", a2)\n",
        "print(\"a3:\", a3)\n",
        "\n",
        "# Calculate maximal distance\n",
        "a1_max = max(abs(a1), abs(a2), abs(a3))\n",
        "max_distance = calculate_max_distance(L, dt, a1_max)\n",
        "print(\"Maximal distance M1 moves from its original position:\", max_distance)\n"
      ]
    }
  ]
}